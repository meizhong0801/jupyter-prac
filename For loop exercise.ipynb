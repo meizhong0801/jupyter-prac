{
 "cells": [
  {
   "cell_type": "code",
   "execution_count": 8,
   "id": "b4245e85",
   "metadata": {},
   "outputs": [
    {
     "name": "stdout",
     "output_type": "stream",
     "text": [
      "enter your number: 5\n",
      "do you want to your number(Y or N)n\n",
      "enter your number: 2\n",
      "do you want to your number(Y or N)n\n",
      "enter your number: 6\n",
      "do you want to your number(Y or N)n\n",
      "enter your number: 4\n",
      "do you want to your number(Y or N)n\n",
      "enter your number: 2\n",
      "do you want to your number(Y or N)n\n",
      "0\n"
     ]
    }
   ],
   "source": [
    "#42\n",
    "total = 0\n",
    "for i in range(5):\n",
    "    number = int(input(\"enter your number: \"))\n",
    "    is_included = input(\"do you want to your number(Y or N)\").upper()\n",
    "    if is_included == \"Y\":\n",
    "        total += number\n",
    "print(total)"
   ]
  },
  {
   "cell_type": "code",
   "execution_count": 20,
   "id": "8e3ce4e2",
   "metadata": {},
   "outputs": [
    {
     "name": "stdout",
     "output_type": "stream",
     "text": [
      "Please select your direction(up or down): hello\n",
      "I don't understand\n"
     ]
    }
   ],
   "source": [
    "#43\n",
    "direction = input(\"Please select your direction(up or down): \").lower()\n",
    "if direction == \"up\":\n",
    "    top_num = int(input(\"Please enter your top num: \"))\n",
    "    for i in range(1,top_num + 1):\n",
    "        print(i)\n",
    "elif direction == \"down\":\n",
    "    below_num = int(input(\"Please enter the number below 20: \"))\n",
    "    for i in range(20,below_num - 1, -1):\n",
    "        print(i)\n",
    "else:\n",
    "    print(\"I don't understand\")"
   ]
  },
  {
   "cell_type": "code",
   "execution_count": 22,
   "id": "16114104",
   "metadata": {},
   "outputs": [
    {
     "name": "stdout",
     "output_type": "stream",
     "text": [
      "how many people want to party: 11\n",
      "Too many people\n"
     ]
    }
   ],
   "source": [
    "#44\n",
    "people_num = int(input(\"how many people want to party: \"))\n",
    "if people_num < 10:\n",
    "    for i in range(people_num):\n",
    "        name = input(\"please enter your name: \")\n",
    "        print(f\"{name} has been invited\")\n",
    "else:\n",
    "   print(\"Too many people\")"
   ]
  },
  {
   "cell_type": "code",
   "execution_count": null,
   "id": "6f694014",
   "metadata": {},
   "outputs": [],
   "source": []
  }
 ],
 "metadata": {
  "kernelspec": {
   "display_name": "Python 3 (ipykernel)",
   "language": "python",
   "name": "python3"
  },
  "language_info": {
   "codemirror_mode": {
    "name": "ipython",
    "version": 3
   },
   "file_extension": ".py",
   "mimetype": "text/x-python",
   "name": "python",
   "nbconvert_exporter": "python",
   "pygments_lexer": "ipython3",
   "version": "3.9.13"
  }
 },
 "nbformat": 4,
 "nbformat_minor": 5
}
